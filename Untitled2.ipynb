{
  "nbformat": 4,
  "nbformat_minor": 0,
  "metadata": {
    "colab": {
      "name": "Untitled2.ipynb",
      "provenance": [],
      "authorship_tag": "ABX9TyPDz3u1OfsdVhzqpiqeBxes",
      "include_colab_link": true
    },
    "kernelspec": {
      "name": "python3",
      "display_name": "Python 3"
    }
  },
  "cells": [
    {
      "cell_type": "markdown",
      "metadata": {
        "id": "view-in-github",
        "colab_type": "text"
      },
      "source": [
        "<a href=\"https://colab.research.google.com/github/Tanuj-45/Mech/blob/master/Untitled2.ipynb\" target=\"_parent\"><img src=\"https://colab.research.google.com/assets/colab-badge.svg\" alt=\"Open In Colab\"/></a>"
      ]
    },
    {
      "cell_type": "code",
      "metadata": {
        "id": "Q1AWxHwOkDit"
      },
      "source": [
        "import matplotlib\r\n",
        "import pandas as pd\r\n",
        "import numpy as np\r\n",
        "import matplotlib.pyplot as plt\r\n",
        "import seaborn as sns\r\n",
        "import math\r\n",
        "import numpy as np\r\n",
        "%matplotlib inline\r\n",
        "def cal_x(t, c, m, k, x1, v):\r\n",
        "\r\n",
        " if D == 0:\r\n",
        "  title = \"Graph for Undamped System\"\r\n",
        "  x = (x1 * math.cos(nf * t)) + ((v / nf) * math.sin(nf * t))\r\n",
        " \r\n",
        " elif (D == 1):\r\n",
        "  title = \"Graph for Critically Damped System\"\r\n",
        "  x = (math.exp((-nf) * t))*(x1 + (v + nf * x1) * t)\r\n",
        " elif (D < 1):\r\n",
        "  title = \"Graph for Underdamped System\"\r\n",
        "  wd = nf * (1 - D**2)**0.5\r\n",
        "  x = (math.exp((-D)*(nf*t)))*((x1 * math.cos(wd * t)) + ((v + D * nf * x1 )/wd) * math.sin(wd * t))\r\n",
        " elif (D > 1):\r\n",
        "  title = \"Graph for Over damped System\"\r\n",
        "  a = x1 * nf * (D + (D**2 + 1)**0.5)\r\n",
        "  b = 2 * nf * ((D**2 +1)**0.5)\r\n",
        "  c_ovr = math.exp((-D + ((D**2 - 1)**0.5)) * nf * t)\r\n",
        "  d = math.exp((-D - ((D**2 - 1)**0.5)) * nf * t)\r\n",
        "  x = (((a + v) * c_ovr)/b) + (((-a - v) * d)/b)\r\n",
        " return x, title\r\n",
        "def get_points(t, c, m, k, x1, v):\r\n",
        " y = []\r\n",
        " x = np.array(list(range(0, math.ceil(t))))\r\n",
        " time = np.linspace(x.min(), x.max(), 300)\r\n",
        " for t in time:\r\n",
        "  x_points, title = cal_x(t, c, m, k, x1, v)\r\n",
        "  y.append(x_points)\r\n",
        " return y, time, title\r\n",
        "m = float(input(\"Enter the value Mass in kilogram(m): \"))\r\n",
        "t = float(input(\"Enter value of Time for testing in sec(t): \"))\r\n",
        "v = float(input(\"Enter value of Initial Velocity in m/s(v): \"))\r\n",
        "x1 = float(input(\"Enter Initial Displacement in m(x1): \"))\r\n",
        "k = float(input(\"Enter Stiffness value in N/m(k): \"))\r\n",
        "while(True):\r\n",
        "    print(\"1. To continue the program\")\r\n",
        "    print(\"2. Exit\")\r\n",
        "    Option = int(input(\"Select appropriate Option: \"))\r\n",
        "    if Option == 1:\r\n",
        "     c = float(input(\"Enter value of Damping Coefficient in N-s/m(c): \"))\r\n",
        "     nf = (k / m) ** (0.5)\r\n",
        "     cd = 2 * ((k * m) ** (0.5))\r\n",
        "     D = c / cd\r\n",
        "     print(\"Natural Frequency: \", nf)\r\n",
        "     print(\"Critical Damping: \", cd)\r\n",
        "     print(\"Damping Ratio: \", D)\r\n",
        "     print(\"________________________________________________\")\r\n",
        "     y, time, plt_title = get_points(t, c, m, k, x1, v)\r\n",
        "     # x-axis label\r\n",
        "     plt.xlabel('x - axis')\r\n",
        "     # frequency label\r\n",
        "     plt.ylabel('y - axis')\r\n",
        "     # plot title\r\n",
        "     plt.title(plt_title)\r\n",
        "     plt.plot(time, y)\r\n",
        "     plt.axhline(0, color='green')\r\n",
        "     plt.show()\r\n",
        "     print(\"________________________________________________\")\r\n",
        "    elif Option == 2:\r\n",
        "     print(\"Thanks for using my program\")\r\n",
        "     print(\"________________________________________________\")\r\n",
        "\r\n",
        "     break\r\n",
        "    else:\r\n",
        "     print(\"Enter appropriate Option!\")\r\n",
        "     print(\"________________________________________________\")\r\n"
      ],
      "execution_count": null,
      "outputs": []
    }
  ]
}